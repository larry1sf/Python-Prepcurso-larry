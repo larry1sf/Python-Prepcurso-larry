{
 "cells": [
  {
   "cell_type": "markdown",
   "metadata": {},
   "source": []
  },
  {
   "cell_type": "code",
   "execution_count": 17,
   "metadata": {},
   "outputs": [],
   "source": [
    "import unittest"
   ]
  },
  {
   "cell_type": "code",
   "execution_count": 18,
   "metadata": {},
   "outputs": [],
   "source": [
    "def es_mayor_edad(edad):\n",
    "    if edad >=18:\n",
    "        return True\n",
    "    else:\n",
    "        return False"
   ]
  },
  {
   "cell_type": "code",
   "execution_count": 21,
   "metadata": {},
   "outputs": [
    {
     "name": "stderr",
     "output_type": "stream",
     "text": [
      "test_es_mayor_edad (__main__.Prueba_de_cristal_test.test_es_mayor_edad) ... ok\n",
      "test_es_menor_de_edad (__main__.Prueba_de_cristal_test.test_es_menor_de_edad) ... ok\n",
      "\n",
      "----------------------------------------------------------------------\n",
      "Ran 2 tests in 0.003s\n",
      "\n",
      "OK\n"
     ]
    },
    {
     "ename": "NameError",
     "evalue": "name 'test_es_mayor_edad' is not defined",
     "output_type": "error",
     "traceback": [
      "\u001b[1;31m---------------------------------------------------------------------------\u001b[0m",
      "\u001b[1;31mNameError\u001b[0m                                 Traceback (most recent call last)",
      "\u001b[1;32md:\\vs\\prepcuso\\Python-Prepcurso-larry\\M09_errorhandling\\whitebox\\caja_cristal.ipynb Cell 4\u001b[0m line \u001b[0;36m1\n\u001b[0;32m     <a href='vscode-notebook-cell:/d%3A/vs/prepcuso/Python-Prepcurso-larry/M09_errorhandling/whitebox/caja_cristal.ipynb#W3sZmlsZQ%3D%3D?line=13'>14</a>\u001b[0m         \u001b[39mself\u001b[39m\u001b[39m.\u001b[39massertEqual(resultado, \u001b[39mFalse\u001b[39;00m)\n\u001b[0;32m     <a href='vscode-notebook-cell:/d%3A/vs/prepcuso/Python-Prepcurso-larry/M09_errorhandling/whitebox/caja_cristal.ipynb#W3sZmlsZQ%3D%3D?line=16'>17</a>\u001b[0m unittest\u001b[39m.\u001b[39mmain(argv\u001b[39m=\u001b[39m[\u001b[39m\"\u001b[39m\u001b[39m\"\u001b[39m], verbosity\u001b[39m=\u001b[39m\u001b[39m2\u001b[39m, exit\u001b[39m=\u001b[39m\u001b[39mFalse\u001b[39;00m)\n\u001b[1;32m---> <a href='vscode-notebook-cell:/d%3A/vs/prepcuso/Python-Prepcurso-larry/M09_errorhandling/whitebox/caja_cristal.ipynb#W3sZmlsZQ%3D%3D?line=17'>18</a>\u001b[0m test_es_mayor_edad(__main__\u001b[39m.\u001b[39mPrueba_de_cristal_test)\n\u001b[0;32m     <a href='vscode-notebook-cell:/d%3A/vs/prepcuso/Python-Prepcurso-larry/M09_errorhandling/whitebox/caja_cristal.ipynb#W3sZmlsZQ%3D%3D?line=18'>19</a>\u001b[0m test_es_menor_de_edad(__main__\u001b[39m.\u001b[39mPrueba_de_cristal_test)\n",
      "\u001b[1;31mNameError\u001b[0m: name 'test_es_mayor_edad' is not defined"
     ]
    }
   ],
   "source": [
    "class Prueba_de_cristal_test(unittest.TestCase):\n",
    "    pass\n",
    "\n",
    "    def test_es_mayor_edad(self):\n",
    "        edad = 20\n",
    "\n",
    "        resultado = es_mayor_edad(edad)\n",
    "        self.assertEqual(resultado, True)\n",
    "\n",
    "    def test_es_menor_de_edad(self):\n",
    "        edad = 15\n",
    "\n",
    "        resultado = es_mayor_edad(edad)\n",
    "        self.assertEqual(resultado, False)\n",
    "\n",
    "\n",
    "unittest.main(argv=[\"\"], verbosity=2, exit=False)\n",
    "test_es_mayor_edad(__main__.Prueba_de_cristal_test)\n",
    "test_es_menor_de_edad(__main__.Prueba_de_cristal_test)"
   ]
  }
 ],
 "metadata": {
  "kernelspec": {
   "display_name": "Python 3",
   "language": "python",
   "name": "python3"
  },
  "language_info": {
   "codemirror_mode": {
    "name": "ipython",
    "version": 3
   },
   "file_extension": ".py",
   "mimetype": "text/x-python",
   "name": "python",
   "nbconvert_exporter": "python",
   "pygments_lexer": "ipython3",
   "version": "3.11.5"
  }
 },
 "nbformat": 4,
 "nbformat_minor": 2
}
