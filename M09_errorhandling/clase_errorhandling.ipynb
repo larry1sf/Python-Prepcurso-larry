{
 "cells": [
  {
   "cell_type": "code",
   "execution_count": 10,
   "metadata": {},
   "outputs": [],
   "source": [
    "import unittest\n",
    "\n",
    "\n",
    "def suma(n1, n2):\n",
    "    r = n1 + n2\n",
    "    return r\n",
    "\n"
   ]
  },
  {
   "cell_type": "code",
   "execution_count": 11,
   "metadata": {},
   "outputs": [],
   "source": [
    "class CajanegraTest(unittest.TestCase):\n",
    "    def test_suma_dos_numeros_positivos(self):\n",
    "        n1 = 10\n",
    "        n2 = 5\n",
    "\n",
    "        resultado = suma(n1, n2)\n",
    "\n",
    "        self.assertEqual(resultado, 15)\n",
    "\n",
    "    def test_suma_dos_numeros_negativos(self):\n",
    "        n1 = -10\n",
    "        n2 = -7\n",
    "\n",
    "        resultado = suma(n1, n2)\n",
    "\n",
    "        self.assertEqual(resultado, -17)"
   ]
  },
  {
   "cell_type": "code",
   "execution_count": 13,
   "metadata": {},
   "outputs": [
    {
     "name": "stderr",
     "output_type": "stream",
     "text": [
      "test_suma_dos_numeros_negativos (__main__.CajanegraTest.test_suma_dos_numeros_negativos) ... ok\n",
      "test_suma_dos_numeros_positivos (__main__.CajanegraTest.test_suma_dos_numeros_positivos) ... ok\n",
      "\n",
      "----------------------------------------------------------------------\n",
      "Ran 2 tests in 0.003s\n",
      "\n",
      "OK\n"
     ]
    },
    {
     "ename": "NameError",
     "evalue": "name 'test_suma_dos_numeros_positivos' is not defined",
     "output_type": "error",
     "traceback": [
      "\u001b[1;31m---------------------------------------------------------------------------\u001b[0m",
      "\u001b[1;31mNameError\u001b[0m                                 Traceback (most recent call last)",
      "\u001b[1;32md:\\vs\\prepcuso\\Python-Prepcurso-larry\\M09_errorhandling\\c.ipynb Cell 3\u001b[0m line \u001b[0;36m3\n\u001b[0;32m      <a href='vscode-notebook-cell:/d%3A/vs/prepcuso/Python-Prepcurso-larry/M09_errorhandling/c.ipynb#W2sZmlsZQ%3D%3D?line=0'>1</a>\u001b[0m unittest\u001b[39m.\u001b[39mmain(argv\u001b[39m=\u001b[39m[\u001b[39m\"\u001b[39m\u001b[39m\"\u001b[39m], verbosity\u001b[39m=\u001b[39m\u001b[39m2\u001b[39m, exit\u001b[39m=\u001b[39m\u001b[39mFalse\u001b[39;00m)\n\u001b[1;32m----> <a href='vscode-notebook-cell:/d%3A/vs/prepcuso/Python-Prepcurso-larry/M09_errorhandling/c.ipynb#W2sZmlsZQ%3D%3D?line=2'>3</a>\u001b[0m test_suma_dos_numeros_positivos(__main__\u001b[39m.\u001b[39mCajanegraTest)\n\u001b[0;32m      <a href='vscode-notebook-cell:/d%3A/vs/prepcuso/Python-Prepcurso-larry/M09_errorhandling/c.ipynb#W2sZmlsZQ%3D%3D?line=3'>4</a>\u001b[0m test_suma_dos_numeros_negativos(__main__\u001b[39m.\u001b[39mCajanegraTest)\n",
      "\u001b[1;31mNameError\u001b[0m: name 'test_suma_dos_numeros_positivos' is not defined"
     ]
    }
   ],
   "source": [
    "unittest.main(argv=[\"\"], verbosity=2, exit=False)\n",
    "\n",
    "test_suma_dos_numeros_positivos(__main__.CajanegraTest)\n",
    "test_suma_dos_numeros_negativos(__main__.CajanegraTest)"
   ]
  }
 ],
 "metadata": {
  "kernelspec": {
   "display_name": "Python 3",
   "language": "python",
   "name": "python3"
  },
  "language_info": {
   "codemirror_mode": {
    "name": "ipython",
    "version": 3
   },
   "file_extension": ".py",
   "mimetype": "text/x-python",
   "name": "python",
   "nbconvert_exporter": "python",
   "pygments_lexer": "ipython3",
   "version": "3.11.5"
  }
 },
 "nbformat": 4,
 "nbformat_minor": 2
}
