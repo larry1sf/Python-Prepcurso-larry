{
 "cells": [
  {
   "cell_type": "code",
   "execution_count": 5,
   "metadata": {},
   "outputs": [],
   "source": [
    "def lista_dividada_divisor(lista,divisor):\n",
    "# mientras el divisor sea zero muestra el error o la exepcion de divisorZero    \n",
    "    try:\n",
    "        return [i/divisor for i in lista]\n",
    "\n",
    "    except ZeroDivisionError as e:\n",
    "        print(e)\n",
    "        return lista"
   ]
  },
  {
   "cell_type": "code",
   "execution_count": 23,
   "metadata": {},
   "outputs": [
    {
     "name": "stdout",
     "output_type": "stream",
     "text": [
      "division by zero\n",
      "[0, 1, 2, 3, 4, 5, 6, 7, 8, 9]\n",
      "lo se\n"
     ]
    }
   ],
   "source": [
    "lista = list(range(10))\n",
    "divisor = 0\n",
    "print(lista_dividada_divisor(lista,divisor))\n",
    "if ZeroDivisionError:\n",
    "    print('lo se')"
   ]
  },
  {
   "cell_type": "code",
   "execution_count": 116,
   "metadata": {},
   "outputs": [],
   "source": [
    "def comprueba_nombres(primer, segundo):\n",
    "    try:\n",
    "        if primer == segundo:\n",
    "            print('ta bien') \n",
    "\n",
    "    except :\n",
    "        print('nadda')\n"
   ]
  },
  {
   "cell_type": "code",
   "execution_count": 117,
   "metadata": {},
   "outputs": [],
   "source": [
    "comprueba_nombres('12','212')"
   ]
  },
  {
   "cell_type": "markdown",
   "metadata": {},
   "source": [
    "es mejor pedir perdon que permiso"
   ]
  },
  {
   "cell_type": "code",
   "execution_count": 118,
   "metadata": {},
   "outputs": [
    {
     "name": "stdout",
     "output_type": "stream",
     "text": [
      "EL archivo no eexiste [Errno 2] No such file or directory: 'archivo.txt'\n"
     ]
    }
   ],
   "source": [
    "try:\n",
    "    with open('archivo.txt','r') as f:\n",
    "        contenido = f.read()\n",
    "except FileNotFoundError as e:\n",
    "    print('EL archivo no eexiste' , e)"
   ]
  },
  {
   "cell_type": "code",
   "execution_count": 122,
   "metadata": {},
   "outputs": [
    {
     "name": "stdout",
     "output_type": "stream",
     "text": [
      "no\n"
     ]
    }
   ],
   "source": [
    "dicc = {\n",
    "    'colombia':'Co',\n",
    "    'venezuela':'Ve',\n",
    "    'panama': 'Co'\n",
    "}\n",
    "try:\n",
    "    codig = dicc['argentina']\n",
    "except KeyError :\n",
    "    print ('no')\n"
   ]
  }
 ],
 "metadata": {
  "kernelspec": {
   "display_name": "Python 3",
   "language": "python",
   "name": "python3"
  },
  "language_info": {
   "codemirror_mode": {
    "name": "ipython",
    "version": 3
   },
   "file_extension": ".py",
   "mimetype": "text/x-python",
   "name": "python",
   "nbconvert_exporter": "python",
   "pygments_lexer": "ipython3",
   "version": "3.11.5"
  }
 },
 "nbformat": 4,
 "nbformat_minor": 2
}
