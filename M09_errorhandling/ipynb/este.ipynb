{
 "cells": [
  {
   "cell_type": "code",
   "execution_count": 2,
   "metadata": {},
   "outputs": [],
   "source": [
    "import sys\n",
    "\n",
    "# In[2]\n",
    "sys.path.append(r\"D:\\vs\\prepcuso\\Python-Prepcurso-larry\\M08_clasesyOOP\")\n",
    "# print(sys.path)\n",
    "import modulo as m\n"
   ]
  },
  {
   "cell_type": "code",
   "execution_count": 8,
   "metadata": {},
   "outputs": [
    {
     "name": "stderr",
     "output_type": "stream",
     "text": [
      "test_creacion_correcta_de_objeto (__main__.Punto_tres.test_creacion_correcta_de_objeto) ... ERROR\n",
      "\n",
      "======================================================================\n",
      "ERROR: test_creacion_correcta_de_objeto (__main__.Punto_tres.test_creacion_correcta_de_objeto)\n",
      "----------------------------------------------------------------------\n",
      "Traceback (most recent call last):\n",
      "  File \"C:\\Users\\lasry\\AppData\\Local\\Temp\\ipykernel_1540\\2597578702.py\", line 8, in test_creacion_correcta_de_objeto\n",
      "    assert m.Transferir() is NotImplemented, \"si esta implementado\"\n",
      "           ^^^^^^^^^^^^^^\n",
      "TypeError: Transferir.__init__() missing 1 required positional argument: 'lista_numeros'\n",
      "\n",
      "----------------------------------------------------------------------\n",
      "Ran 1 test in 0.003s\n",
      "\n",
      "FAILED (errors=1)\n"
     ]
    },
    {
     "ename": "NameError",
     "evalue": "name 'test_creacion_correcta_de_objeto' is not defined",
     "output_type": "error",
     "traceback": [
      "\u001b[1;31m---------------------------------------------------------------------------\u001b[0m",
      "\u001b[1;31mNameError\u001b[0m                                 Traceback (most recent call last)",
      "\u001b[1;32md:\\vs\\prepcuso\\Python-Prepcurso-larry\\M09_errorhandling\\ipnb\\este.ipynb Cell 2\u001b[0m line \u001b[0;36m1\n\u001b[0;32m      <a href='vscode-notebook-cell:/d%3A/vs/prepcuso/Python-Prepcurso-larry/M09_errorhandling/ipnb/este.ipynb#W1sZmlsZQ%3D%3D?line=7'>8</a>\u001b[0m         \u001b[39massert\u001b[39;00m m\u001b[39m.\u001b[39mTransferir() \u001b[39mis\u001b[39;00m \u001b[39mNotImplemented\u001b[39m, \u001b[39m\"\u001b[39m\u001b[39msi esta implementado\u001b[39m\u001b[39m\"\u001b[39m\n\u001b[0;32m     <a href='vscode-notebook-cell:/d%3A/vs/prepcuso/Python-Prepcurso-larry/M09_errorhandling/ipnb/este.ipynb#W1sZmlsZQ%3D%3D?line=10'>11</a>\u001b[0m unittest\u001b[39m.\u001b[39mmain(argv\u001b[39m=\u001b[39m[\u001b[39m\"\u001b[39m\u001b[39m\"\u001b[39m], verbosity\u001b[39m=\u001b[39m\u001b[39m2\u001b[39m, exit\u001b[39m=\u001b[39m\u001b[39mFalse\u001b[39;00m)\n\u001b[1;32m---> <a href='vscode-notebook-cell:/d%3A/vs/prepcuso/Python-Prepcurso-larry/M09_errorhandling/ipnb/este.ipynb#W1sZmlsZQ%3D%3D?line=12'>13</a>\u001b[0m test_creacion_correcta_de_objeto(__main__\u001b[39m.\u001b[39mPunto_tres)\n",
      "\u001b[1;31mNameError\u001b[0m: name 'test_creacion_correcta_de_objeto' is not defined"
     ]
    }
   ],
   "source": [
    "import unittest\n",
    "\n",
    "\n",
    "class Punto_tres(unittest.TestCase):\n",
    "    pass\n",
    "\n",
    "    def test_creacion_correcta_de_objeto(self):\n",
    "        assert m.Transferir() is NotImplemented, \"si esta implementado\"\n",
    "\n",
    "\n",
    "unittest.main(argv=[\"\"], verbosity=2, exit=False)\n",
    "\n",
    "test_creacion_correcta_de_objeto(__main__.Punto_tres)"
   ]
  }
 ],
 "metadata": {
  "kernelspec": {
   "display_name": "Python 3",
   "language": "python",
   "name": "python3"
  },
  "language_info": {
   "codemirror_mode": {
    "name": "ipython",
    "version": 3
   },
   "file_extension": ".py",
   "mimetype": "text/x-python",
   "name": "python",
   "nbconvert_exporter": "python",
   "pygments_lexer": "ipython3",
   "version": "3.11.5"
  }
 },
 "nbformat": 4,
 "nbformat_minor": 2
}
