{
 "cells": [
  {
   "attachments": {},
   "cell_type": "markdown",
   "metadata": {},
   "source": [
    "## Manejo de errores"
   ]
  },
  {
   "attachments": {},
   "cell_type": "markdown",
   "metadata": {},
   "source": [
    "1) Con la clase creada en el módulo 7, tener en cuenta diferentes casos en que el código pudiera arrojar error. Por ejemplo, en la creación del objeto recibimos una lista de números enteros pero ¿qué pasa si se envía otro tipo de dato?"
   ]
  },
  {
   "cell_type": "code",
   "execution_count": 22,
   "metadata": {},
   "outputs": [
    {
     "name": "stderr",
     "output_type": "stream",
     "text": [
      "test_error_introductorio (__main__.Prueba_e_texto.test_error_introductorio) ... FAIL\n",
      "test_creacion_incorrecta (__main__.Punto_tres.test_creacion_incorrecta) ... FAIL\n",
      "\n",
      "======================================================================\n",
      "FAIL: test_error_introductorio (__main__.Prueba_e_texto.test_error_introductorio)\n",
      "----------------------------------------------------------------------\n",
      "Traceback (most recent call last):\n",
      "  File \"C:\\Users\\lasry\\AppData\\Local\\Temp\\ipykernel_10952\\1926449106.py\", line 16, in test_error_introductorio\n",
      "    self.assertEqual(m.Transferir([]), list, \"no es lista\")\n",
      "AssertionError: <modulo.Transferir object at 0x000002BDEB3985D0> != <class 'list'> : no es lista\n",
      "\n",
      "======================================================================\n",
      "FAIL: test_creacion_incorrecta (__main__.Punto_tres.test_creacion_incorrecta)\n",
      "----------------------------------------------------------------------\n",
      "Traceback (most recent call last):\n",
      "  File \"C:\\Users\\lasry\\AppData\\Local\\Temp\\ipykernel_10952\\2754091179.py\", line 13, in test_creacion_incorrecta\n",
      "    self.assertEqual(m.Transferir([1]), [1],error)\n",
      "AssertionError: <modulo.Transferir object at 0x000002BDEB50BC10> != [1] : no es una lista de enteros\n",
      "\n",
      "----------------------------------------------------------------------\n",
      "Ran 2 tests in 0.004s\n",
      "\n",
      "FAILED (failures=2)\n"
     ]
    },
    {
     "ename": "NameError",
     "evalue": "name 'test_error_introductorio' is not defined",
     "output_type": "error",
     "traceback": [
      "\u001b[1;31m---------------------------------------------------------------------------\u001b[0m",
      "\u001b[1;31mNameError\u001b[0m                                 Traceback (most recent call last)",
      "\u001b[1;32md:\\vs\\prepcuso\\Python-Prepcurso-larry\\M09_errorhandling\\Prep_Course_Homework_09.ipynb Cell 3\u001b[0m line \u001b[0;36m2\n\u001b[0;32m     <a href='vscode-notebook-cell:/d%3A/vs/prepcuso/Python-Prepcurso-larry/M09_errorhandling/Prep_Course_Homework_09.ipynb#W2sZmlsZQ%3D%3D?line=15'>16</a>\u001b[0m         \u001b[39mself\u001b[39m\u001b[39m.\u001b[39massertEqual(m\u001b[39m.\u001b[39mTransferir([]), \u001b[39mlist\u001b[39m, \u001b[39m\"\u001b[39m\u001b[39mno es lista\u001b[39m\u001b[39m\"\u001b[39m)\n\u001b[0;32m     <a href='vscode-notebook-cell:/d%3A/vs/prepcuso/Python-Prepcurso-larry/M09_errorhandling/Prep_Course_Homework_09.ipynb#W2sZmlsZQ%3D%3D?line=18'>19</a>\u001b[0m unittest\u001b[39m.\u001b[39mmain(argv\u001b[39m=\u001b[39m[\u001b[39m\"\u001b[39m\u001b[39m\"\u001b[39m], verbosity\u001b[39m=\u001b[39m\u001b[39m2\u001b[39m, exit\u001b[39m=\u001b[39m\u001b[39mFalse\u001b[39;00m)\n\u001b[1;32m---> <a href='vscode-notebook-cell:/d%3A/vs/prepcuso/Python-Prepcurso-larry/M09_errorhandling/Prep_Course_Homework_09.ipynb#W2sZmlsZQ%3D%3D?line=19'>20</a>\u001b[0m test_error_introductorio(__main__\u001b[39m.\u001b[39mPrueba_e_texto)\n",
      "\u001b[1;31mNameError\u001b[0m: name 'test_error_introductorio' is not defined"
     ]
    }
   ],
   "source": [
    "import sys\n",
    "import unittest\n",
    "\n",
    "\n",
    "sys.path.append(r\"D:\\vs\\prepcuso\\Python-Prepcurso-larry\\M08_clasesyOOP\")\n",
    "\n",
    "import modulo as m\n",
    "\n",
    "\n",
    "\n",
    "\n",
    "# prueba = m.Transferir(\"texto\")\n",
    "\n",
    "class Prueba_e_texto(unittest.TestCase):\n",
    "    def test_error_introductorio(self):\n",
    "        self.assertEqual(m.Transferir([]), list, \"no es lista\")\n",
    "\n",
    "\n",
    "unittest.main(argv=[\"\"], verbosity=2, exit=False)\n",
    "test_error_introductorio(__main__.Prueba_e_texto)"
   ]
  },
  {
   "attachments": {},
   "cell_type": "markdown",
   "metadata": {},
   "source": [
    "2) En la función que hace la conversión de grados, validar que los parámetros enviados sean los esperados, de no serlo, informar cuáles son los valores esperados."
   ]
  },
  {
   "cell_type": "code",
   "execution_count": 10,
   "metadata": {},
   "outputs": [
    {
     "name": "stdout",
     "output_type": "stream",
     "text": [
      "tines 267.0388888888889 grados kelvin\n",
      "tines 267.59444444444443 grados kelvin\n",
      "tines 268.15 grados kelvin\n",
      "tines 268.7055555555555 grados kelvin\n",
      "tines 269.26111111111106 grados kelvin\n"
     ]
    },
    {
     "data": {
      "text/plain": [
       "[None, None, None, None, None]"
      ]
     },
     "execution_count": 10,
     "metadata": {},
     "output_type": "execute_result"
    }
   ],
   "source": [
    "import importlib\n",
    "\n",
    "importlib.reload(m)\n",
    "\n",
    "prueba = m.Transferir([21, 22, 23, 24, 25])\n",
    "\n",
    "# prueba.convertir(1,2)\n",
    "prueba.convertir(\"farenheit\", \"kelvin\")"
   ]
  },
  {
   "attachments": {},
   "cell_type": "markdown",
   "metadata": {},
   "source": [
    "3) Importar el modulo \"unittest\" y crear los siguientes casos de pruebas sobre la clase utilizada en el punto 2<br>\n",
    "Creacion del objeto incorrecta<br>\n",
    "Creacion correcta del objeto<br>\n",
    "Metodo valor_modal()<br>\n",
    "\n",
    "Se puede usar \"raise ValueError()\" en la creación de la clase para verificar el error. Investigar sobre esta funcionalidad."
   ]
  },
  {
   "cell_type": "code",
   "execution_count": 14,
   "metadata": {},
   "outputs": [
    {
     "name": "stderr",
     "output_type": "stream",
     "text": [
      "test_creacion_incorrecta (__main__.Punto_tres.test_creacion_incorrecta) ... FAIL\n",
      "\n",
      "======================================================================\n",
      "FAIL: test_creacion_incorrecta (__main__.Punto_tres.test_creacion_incorrecta)\n",
      "----------------------------------------------------------------------\n",
      "Traceback (most recent call last):\n",
      "  File \"C:\\Users\\lasry\\AppData\\Local\\Temp\\ipykernel_10952\\2754091179.py\", line 13, in test_creacion_incorrecta\n",
      "    self.assertEqual(m.Transferir([1]), [1],error)\n",
      "AssertionError: <modulo.Transferir object at 0x000002BDEB49ED50> != [1] : no es una lista de enteros\n",
      "\n",
      "----------------------------------------------------------------------\n",
      "Ran 1 test in 0.002s\n",
      "\n",
      "FAILED (failures=1)\n"
     ]
    },
    {
     "ename": "NameError",
     "evalue": "name 'test_creacion_incorrecta' is not defined",
     "output_type": "error",
     "traceback": [
      "\u001b[1;31m---------------------------------------------------------------------------\u001b[0m",
      "\u001b[1;31mNameError\u001b[0m                                 Traceback (most recent call last)",
      "\u001b[1;32md:\\vs\\prepcuso\\Python-Prepcurso-larry\\M09_errorhandling\\Prep_Course_Homework_09.ipynb Cell 7\u001b[0m line \u001b[0;36m2\n\u001b[0;32m     <a href='vscode-notebook-cell:/d%3A/vs/prepcuso/Python-Prepcurso-larry/M09_errorhandling/Prep_Course_Homework_09.ipynb#W6sZmlsZQ%3D%3D?line=14'>15</a>\u001b[0m     \u001b[39m# def test_creacion_objeto(self):\u001b[39;00m\n\u001b[0;32m     <a href='vscode-notebook-cell:/d%3A/vs/prepcuso/Python-Prepcurso-larry/M09_errorhandling/Prep_Course_Homework_09.ipynb#W6sZmlsZQ%3D%3D?line=15'>16</a>\u001b[0m     \u001b[39m#     pass\u001b[39;00m\n\u001b[0;32m     <a href='vscode-notebook-cell:/d%3A/vs/prepcuso/Python-Prepcurso-larry/M09_errorhandling/Prep_Course_Homework_09.ipynb#W6sZmlsZQ%3D%3D?line=16'>17</a>\u001b[0m     \u001b[39m#     # error = 'no la da'\u001b[39;00m\n\u001b[0;32m     <a href='vscode-notebook-cell:/d%3A/vs/prepcuso/Python-Prepcurso-larry/M09_errorhandling/Prep_Course_Homework_09.ipynb#W6sZmlsZQ%3D%3D?line=20'>21</a>\u001b[0m unittest\u001b[39m.\u001b[39mmain(argv\u001b[39m=\u001b[39m[\u001b[39m\"\u001b[39m\u001b[39m\"\u001b[39m], verbosity\u001b[39m=\u001b[39m\u001b[39m2\u001b[39m, exit\u001b[39m=\u001b[39m\u001b[39mFalse\u001b[39;00m)\n\u001b[1;32m---> <a href='vscode-notebook-cell:/d%3A/vs/prepcuso/Python-Prepcurso-larry/M09_errorhandling/Prep_Course_Homework_09.ipynb#W6sZmlsZQ%3D%3D?line=21'>22</a>\u001b[0m test_creacion_incorrecta(__main__\u001b[39m.\u001b[39mPunto_tres)\n",
      "\u001b[1;31mNameError\u001b[0m: name 'test_creacion_incorrecta' is not defined"
     ]
    }
   ],
   "source": [
    "import unittest\n",
    "# import importlib\n",
    "importlib.reload(m)\n",
    "\n",
    "\n",
    "class Punto_tres(unittest.TestCase):\n",
    "\n",
    "    pass\n",
    "\n",
    "\n",
    "    def test_creacion_incorrecta(self):\n",
    "        error = \"no es una lista de enteros\"\n",
    "        self.assertEqual(m.Transferir([1]), [1],error)\n",
    "\n",
    "    # def test_creacion_objeto(self):\n",
    "    #     pass\n",
    "    #     # error = 'no la da'\n",
    "\n",
    "\n",
    "\n",
    "unittest.main(argv=[\"\"], verbosity=2, exit=False)\n",
    "test_creacion_incorrecta(__main__.Punto_tres)\n"
   ]
  },
  {
   "attachments": {},
   "cell_type": "markdown",
   "metadata": {},
   "source": [
    "4) Probar una creación incorrecta y visualizar la salida del \"raise\""
   ]
  },
  {
   "cell_type": "code",
   "execution_count": null,
   "metadata": {},
   "outputs": [],
   "source": []
  },
  {
   "attachments": {},
   "cell_type": "markdown",
   "metadata": {},
   "source": [
    "6) Agregar casos de pruebas para el método verifica_primos() realizando el cambio en la clase, para que devuelva una lista de True o False en función de que el elemento en la posisicón sea o no primo"
   ]
  },
  {
   "cell_type": "code",
   "execution_count": null,
   "metadata": {},
   "outputs": [],
   "source": []
  },
  {
   "attachments": {},
   "cell_type": "markdown",
   "metadata": {},
   "source": [
    "7) Agregar casos de pruebas para el método conversion_grados()"
   ]
  },
  {
   "cell_type": "code",
   "execution_count": null,
   "metadata": {},
   "outputs": [],
   "source": []
  },
  {
   "attachments": {},
   "cell_type": "markdown",
   "metadata": {},
   "source": [
    "8) Agregar casos de pruebas para el método factorial()"
   ]
  },
  {
   "cell_type": "code",
   "execution_count": null,
   "metadata": {},
   "outputs": [],
   "source": []
  }
 ],
 "metadata": {
  "interpreter": {
   "hash": "c85384e4cb51c8b72350f3a8712cc8351fdc3955e32a27f9b60c6242ab125f01"
  },
  "kernelspec": {
   "display_name": "Python 3 (ipykernel)",
   "language": "python",
   "name": "python3"
  },
  "language_info": {
   "codemirror_mode": {
    "name": "ipython",
    "version": 3
   },
   "file_extension": ".py",
   "mimetype": "text/x-python",
   "name": "python",
   "nbconvert_exporter": "python",
   "pygments_lexer": "ipython3",
   "version": "3.11.5"
  }
 },
 "nbformat": 4,
 "nbformat_minor": 4
}
