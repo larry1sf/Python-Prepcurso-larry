{
 "cells": [
  {
   "cell_type": "markdown",
   "metadata": {},
   "source": [
    "voy pot lo de from import *"
   ]
  },
  {
   "cell_type": "code",
   "execution_count": 27,
   "metadata": {},
   "outputs": [],
   "source": [
    "class Animal:\n",
    "    # guardo las variables de los parametros encapsuladas con el __\n",
    "    def __init__(self, especie, años):\n",
    "        self.especie = especie\n",
    "        self.años = años\n",
    "\n",
    "        # metodo generico con implementacion particular\n",
    "    def hablar(self):\n",
    "        # metodo vacio\n",
    "        pass\n",
    "\n",
    "        # metodo generico con implementacion particular\n",
    "    def moverse(self):\n",
    "        # metodo vacio\n",
    "        pass\n",
    "\n",
    "    def describeme(self):\n",
    "        print('soy un animal del tipo ',type(self).__name__)"
   ]
  },
  {
   "cell_type": "code",
   "execution_count": 6,
   "metadata": {},
   "outputs": [
    {
     "name": "stdout",
     "output_type": "stream",
     "text": [
      "soy un animal del tipo  Perro\n"
     ]
    }
   ],
   "source": [
    "#clase Perro de Animal\n",
    "class Perro(Animal):\n",
    "    pass\n",
    "\n",
    "mi_perro = Perro('Mamifero',19)\n",
    "mi_perro.describeme()"
   ]
  },
  {
   "cell_type": "code",
   "execution_count": 9,
   "metadata": {},
   "outputs": [],
   "source": [
    "class Perro(Animal):\n",
    "    def hablar(self):\n",
    "        print('guau')\n",
    "    def moverse(self):\n",
    "        print('me muevo en 4 patas')"
   ]
  },
  {
   "cell_type": "code",
   "execution_count": 10,
   "metadata": {},
   "outputs": [],
   "source": [
    "class Vaca(Animal):\n",
    "    def hablar(self):\n",
    "        print('Muuu')\n",
    "    def moverse(self):\n",
    "        print('camino en 4 patas')\n"
   ]
  },
  {
   "cell_type": "code",
   "execution_count": 11,
   "metadata": {},
   "outputs": [],
   "source": [
    "class Abeja(Animal):\n",
    "    def hablar(self):\n",
    "        print('Bsssss')\n",
    "    def moverse(self):\n",
    "        print('vuelo')\n",
    "    #metodo nuevo\n",
    "    def picar(self):\n",
    "        print('te pique hdpta!')"
   ]
  },
  {
   "cell_type": "code",
   "execution_count": 15,
   "metadata": {},
   "outputs": [
    {
     "name": "stdout",
     "output_type": "stream",
     "text": [
      "vuelo\n"
     ]
    }
   ],
   "source": [
    "abe_1 = Abeja('voladora',2)\n",
    "abe_1.moverse()"
   ]
  },
  {
   "cell_type": "code",
   "execution_count": 28,
   "metadata": {},
   "outputs": [],
   "source": [
    "class Zorro(Animal):\n",
    "    def __init__(self,especie,años,dueño):\n",
    "        super().__init__(especie,años)\n",
    "        self.dueño = dueño\n",
    "        "
   ]
  },
  {
   "cell_type": "code",
   "execution_count": 29,
   "metadata": {},
   "outputs": [],
   "source": [
    "zorrito = Zorro('mamifero',2,'larry')"
   ]
  },
  {
   "cell_type": "code",
   "execution_count": 33,
   "metadata": {},
   "outputs": [
    {
     "name": "stdout",
     "output_type": "stream",
     "text": [
      "soy un animal del tipo  Zorro\n"
     ]
    }
   ],
   "source": [
    "zorrito.dueño\n",
    "zorrito.años\n",
    "zorrito.especie\n",
    "zorrito.describeme()"
   ]
  },
  {
   "cell_type": "markdown",
   "metadata": {},
   "source": [
    "importar todo un modulo completo."
   ]
  },
  {
   "cell_type": "code",
   "execution_count": 35,
   "metadata": {},
   "outputs": [],
   "source": [
    "import modulo"
   ]
  },
  {
   "cell_type": "code",
   "execution_count": 37,
   "metadata": {},
   "outputs": [
    {
     "data": {
      "text/plain": [
       "3"
      ]
     },
     "execution_count": 37,
     "metadata": {},
     "output_type": "execute_result"
    }
   ],
   "source": [
    "modulo.factorial(4)"
   ]
  },
  {
   "cell_type": "markdown",
   "metadata": {},
   "source": [
    "importar una funcion o algo especifico de un modulo."
   ]
  },
  {
   "cell_type": "code",
   "execution_count": 38,
   "metadata": {},
   "outputs": [],
   "source": [
    "from modulo import factorial"
   ]
  },
  {
   "cell_type": "code",
   "execution_count": 41,
   "metadata": {},
   "outputs": [
    {
     "data": {
      "text/plain": [
       "0"
      ]
     },
     "execution_count": 41,
     "metadata": {},
     "output_type": "execute_result"
    }
   ],
   "source": [
    "factorial(5)"
   ]
  },
  {
   "cell_type": "markdown",
   "metadata": {},
   "source": [
    "importar todo de un modulo en especifico"
   ]
  },
  {
   "cell_type": "code",
   "execution_count": null,
   "metadata": {},
   "outputs": [],
   "source": [
    "from modulo import *"
   ]
  }
 ],
 "metadata": {
  "kernelspec": {
   "display_name": "Python 3",
   "language": "python",
   "name": "python3"
  },
  "language_info": {
   "codemirror_mode": {
    "name": "ipython",
    "version": 3
   },
   "file_extension": ".py",
   "mimetype": "text/x-python",
   "name": "python",
   "nbconvert_exporter": "python",
   "pygments_lexer": "ipython3",
   "version": "3.11.5"
  }
 },
 "nbformat": 4,
 "nbformat_minor": 2
}
